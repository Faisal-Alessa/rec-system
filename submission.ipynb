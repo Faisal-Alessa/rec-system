{
 "cells": [
  {
   "cell_type": "code",
   "execution_count": 1,
   "metadata": {},
   "outputs": [],
   "source": [
    "from surprise import KNNBasic, Dataset, Reader, model_selection, SVD, KNNBasic\n",
    "from collections import defaultdict\n",
    "import heapq\n",
    "import pandas as pd\n",
    "from datetime import datetime\n",
    "import numpy as np"
   ]
  },
  {
   "cell_type": "code",
   "execution_count": 2,
   "metadata": {},
   "outputs": [],
   "source": [
    "def dateparse (time_in_secs):    \n",
    "    return datetime.fromtimestamp(float(time_in_secs))"
   ]
  },
  {
   "cell_type": "code",
   "execution_count": 3,
   "metadata": {},
   "outputs": [],
   "source": [
    "def get_top_n(predictions, n=10):\n",
    "    \"\"\"Return the top-N recommendation for each user from a set of predictions.\n",
    "\n",
    "    Args:\n",
    "        predictions(list of Prediction objects): The list of predictions, as\n",
    "            returned by the test method of an algorithm.\n",
    "        n(int): The number of recommendation to output for each user. Default\n",
    "            is 10.\n",
    "\n",
    "    Returns:\n",
    "    A dict where keys are user (raw) ids and values are lists of tuples:\n",
    "        [(raw item id, rating estimation), ...] of size n.\n",
    "    \"\"\"\n",
    "\n",
    "    # First map the predictions to each user.\n",
    "    top_n = defaultdict(list)\n",
    "\n",
    "    for uid, iid, _, est, _ in predictions:\n",
    "        top_n[uid].append((iid, est))\n",
    "\n",
    "    # Then sort the predictions for each user and retrieve the k highest ones.\n",
    "    for uid, user_ratings in top_n.items():        \n",
    "        user_ratings.sort(key=lambda x: x[1], reverse=True)\n",
    "        top_n[uid] = user_ratings[:n]\n",
    "\n",
    "    return top_n"
   ]
  },
  {
   "cell_type": "code",
   "execution_count": 4,
   "metadata": {},
   "outputs": [],
   "source": [
    "# Load in the data  and return train and test sets.\n",
    "def load_dataset(df):\n",
    "    reader = Reader(line_format='user item rating', rating_scale=(1, 5), sep=',', skip_lines=0)\n",
    "    ratings_dataset = Dataset.load_from_df(df, reader)\n",
    "    # Split the dataset into training and test sets\n",
    "    return model_selection.train_test_split(ratings_dataset, test_size=0.20, shuffle=False)\n",
    "    "
   ]
  },
  {
   "cell_type": "code",
   "execution_count": 5,
   "metadata": {},
   "outputs": [],
   "source": [
    "def precision_recall_at_k(predictions, k=10, threshold=3.5):\n",
    "    \"\"\"Return precision and recall at k metrics for each user\"\"\"\n",
    "\n",
    "    # First map the predictions to each user.\n",
    "    user_est_true = defaultdict(list)\n",
    "    for uid, _, true_r, est, _ in predictions:\n",
    "        user_est_true[uid].append((est, true_r))\n",
    "\n",
    "    precisions = {}\n",
    "\n",
    "    recalls = {}\n",
    "    for uid, user_ratings in user_est_true.items():\n",
    "\n",
    "        # Sort user ratings by estimated value\n",
    "        user_ratings.sort(key=lambda x: x[0], reverse=True)\n",
    "\n",
    "        # Number of relevant items\n",
    "        n_rel = sum((true_r >= threshold) for (_, true_r) in user_ratings)\n",
    "\n",
    "        # Number of recommended items in top k\n",
    "        n_rec_k = sum((est >= threshold) for (est, _) in user_ratings[:k])\n",
    "\n",
    "        # Number of relevant and recommended items in top k\n",
    "        n_rel_and_rec_k = sum(\n",
    "            ((true_r >= threshold) and (est >= threshold))\n",
    "            for (est, true_r) in user_ratings[:k]\n",
    "        )\n",
    "\n",
    "        # Precision@K: Proportion of recommended items that are relevant\n",
    "        # When n_rec_k is 0, Precision is undefined. We here set it to 0.\n",
    "\n",
    "        precisions[uid] = n_rel_and_rec_k / n_rec_k if n_rec_k != 0 else 0\n",
    "\n",
    "        # Recall@K: Proportion of relevant items that are recommended\n",
    "        # When n_rel is 0, Recall is undefined. We here set it to 0.\n",
    "\n",
    "        recalls[uid] = n_rel_and_rec_k / n_rel if n_rel != 0 else 0\n",
    "\n",
    "    return precisions, recalls"
   ]
  },
  {
   "cell_type": "code",
   "execution_count": 6,
   "metadata": {},
   "outputs": [],
   "source": [
    "df=pd.read_csv('ai case study.csv',\n",
    "               names=['user_id','product_id','rating','timestamp'],\n",
    "               dtype={'user_id':'category','product_id':'category', 'rating':'int'},\n",
    "               parse_dates=['timestamp'],\n",
    "               date_parser=dateparse\n",
    "              )"
   ]
  },
  {
   "cell_type": "code",
   "execution_count": 7,
   "metadata": {},
   "outputs": [
    {
     "name": "stdout",
     "output_type": "stream",
     "text": [
      "Number os users: 4201696\n",
      "Number of items: 476002\n",
      "Rating Scale: 1 - 5\n",
      "Date range: 1998-12-04 03:00:00 - 2014-07-23 03:00:00\n"
     ]
    }
   ],
   "source": [
    "print(f'Number os users: {len(df.user_id.unique())}')\n",
    "print(f'Number of items: {len(df.product_id.unique())}')\n",
    "print(f'Rating Scale: {int(df.rating.min())} - {int(df.rating.max())}')\n",
    "print(f'Date range: {df.timestamp.min()} - {df.timestamp.max()}')"
   ]
  },
  {
   "attachments": {},
   "cell_type": "markdown",
   "metadata": {},
   "source": [
    "Frequency of each rating"
   ]
  },
  {
   "cell_type": "code",
   "execution_count": 8,
   "metadata": {},
   "outputs": [
    {
     "data": {
      "text/plain": [
       "<AxesSubplot: >"
      ]
     },
     "execution_count": 8,
     "metadata": {},
     "output_type": "execute_result"
    },
    {
     "data": {
      "image/png": "[encoded data removed]",
      "text/plain": [
       "<Figure size 640x480 with 1 Axes>"
      ]
     },
     "metadata": {},
     "output_type": "display_data"
    }
   ],
   "source": [
    "df.rating.hist(bins=range(1,7), align='left', rwidth=0.5)"
   ]
  },
  {
   "attachments": {},
   "cell_type": "markdown",
   "metadata": {},
   "source": [
    "Sort the dataframe by date so that when we split the data we test on the future"
   ]
  },
  {
   "cell_type": "code",
   "execution_count": 9,
   "metadata": {},
   "outputs": [],
   "source": [
    "df = df.sort_values(by='timestamp', inplace = False).reset_index(drop=True)"
   ]
  },
  {
   "attachments": {},
   "cell_type": "markdown",
   "metadata": {},
   "source": [
    "Trying different recommendation techniques, user-based collaborative filltering and item-based collaborative filltering. We split the data into train and test set using the load_dataset function."
   ]
  },
  {
   "cell_type": "code",
   "execution_count": 10,
   "metadata": {},
   "outputs": [],
   "source": [
    "trainset_i, testset_i = load_dataset(df[['product_id', 'user_id', 'rating']]) # item based\n",
    "trainset_u, testset_u = load_dataset(df[['user_id', 'product_id', 'rating']]) # user based"
   ]
  },
  {
   "attachments": {},
   "cell_type": "markdown",
   "metadata": {},
   "source": [
    "We define SVD, a matrix factorizing algorithm and fit the training data."
   ]
  },
  {
   "cell_type": "code",
   "execution_count": 11,
   "metadata": {},
   "outputs": [
    {
     "data": {
      "text/plain": [
       "<surprise.prediction_algorithms.matrix_factorization.SVD at 0x16b3dd570>"
      ]
     },
     "execution_count": 11,
     "metadata": {},
     "output_type": "execute_result"
    }
   ],
   "source": [
    "algo_i = SVD() # item based\n",
    "algo_u = SVD() # user based\n",
    "algo_i.fit(trainset_i)\n",
    "algo_u.fit(trainset_u)"
   ]
  },
  {
   "attachments": {},
   "cell_type": "markdown",
   "metadata": {},
   "source": [
    "We test our laerned algorithm on the testset we defined earlier."
   ]
  },
  {
   "cell_type": "code",
   "execution_count": 12,
   "metadata": {},
   "outputs": [],
   "source": [
    "results_i = algo_i.test(testset_i) # item based\n",
    "results_u = algo_u.test(testset_u) # user based"
   ]
  },
  {
   "attachments": {},
   "cell_type": "markdown",
   "metadata": {},
   "source": [
    "Swap two columns of the user and item to be able to measure the results."
   ]
  },
  {
   "cell_type": "code",
   "execution_count": 13,
   "metadata": {},
   "outputs": [],
   "source": [
    "# (switching item with user to measure the results)\n",
    "results_ip = [[w, v, x, y, z] for v, w, x, y, z in results_i] # processing"
   ]
  },
  {
   "attachments": {},
   "cell_type": "markdown",
   "metadata": {},
   "source": [
    "We use precision_recall_at_k function to calculate the precision and recall."
   ]
  },
  {
   "cell_type": "code",
   "execution_count": 14,
   "metadata": {},
   "outputs": [],
   "source": [
    "precisions_i, recalls_i = precision_recall_at_k(results_ip, 5) # top 5\n",
    "precisions_u, recalls_u = precision_recall_at_k(results_u, 5) # top 5"
   ]
  },
  {
   "cell_type": "code",
   "execution_count": 15,
   "metadata": {},
   "outputs": [
    {
     "name": "stdout",
     "output_type": "stream",
     "text": [
      "avg_precision_i: 0.7027318635233006\n",
      "avg_recall_i: 0.7197603490381925\n",
      "avg_precision_u: 0.7028176631567111\n",
      "avg_recall_u: 0.7199162962884823\n"
     ]
    }
   ],
   "source": [
    "print(f'avg_precision_i: {np.mean(list(precisions_i.values()))}')\n",
    "print(f'avg_recall_i: {np.mean(list(recalls_i.values()))}')\n",
    "print(f'avg_precision_u: {np.mean(list(precisions_u.values()))}')\n",
    "print(f'avg_recall_u: {np.mean(list(recalls_u.values()))}')\n"
   ]
  },
  {
   "attachments": {},
   "cell_type": "markdown",
   "metadata": {},
   "source": [
    "Visualize the results for one user"
   ]
  },
  {
   "cell_type": "code",
   "execution_count": 16,
   "metadata": {},
   "outputs": [],
   "source": [
    "test = df[-int(len(df)*0.2):] # taking last 20% of the data\n",
    "predictions = [algo_u.predict('A1WVMDRJU19AFD', item_id) for item_id in test.product_id.unique()]"
   ]
  },
  {
   "cell_type": "code",
   "execution_count": 17,
   "metadata": {},
   "outputs": [],
   "source": [
    "top_n = get_top_n(predictions, n=5)"
   ]
  },
  {
   "cell_type": "code",
   "execution_count": 18,
   "metadata": {},
   "outputs": [
    {
     "data": {
      "text/plain": [
       "[[('B00622AG6S', 5),\n",
       "  ('B004HFJGYU', 5),\n",
       "  ('B009W8EWOG', 5),\n",
       "  ('B00913NPYK', 5),\n",
       "  ('B00DVFLJDS', 5)]]"
      ]
     },
     "execution_count": 18,
     "metadata": {},
     "output_type": "execute_result"
    }
   ],
   "source": [
    "list(top_n.values())"
   ]
  },
  {
   "attachments": {},
   "cell_type": "markdown",
   "metadata": {},
   "source": [
    "Here we try different approach, we will use a similarity algorithm"
   ]
  },
  {
   "cell_type": "code",
   "execution_count": 19,
   "metadata": {},
   "outputs": [],
   "source": [
    "trainset, testset = load_dataset(df[['user_id', 'product_id', 'rating']][:30000]) # Can't use all data due to lack of memory"
   ]
  },
  {
   "attachments": {},
   "cell_type": "markdown",
   "metadata": {},
   "source": [
    "Again, we will try both item and user based collaborative filtering"
   ]
  },
  {
   "cell_type": "code",
   "execution_count": 20,
   "metadata": {},
   "outputs": [
    {
     "name": "stdout",
     "output_type": "stream",
     "text": [
      "Computing the cosine similarity matrix...\n",
      "Done computing similarity matrix.\n",
      "Computing the cosine similarity matrix...\n",
      "Done computing similarity matrix.\n"
     ]
    }
   ],
   "source": [
    "similarity_matrix_i = KNNBasic(sim_options={\n",
    "        'name': 'cosine',\n",
    "        'user_based': False\n",
    "        })\\\n",
    "        .fit(trainset)\n",
    "similarity_matrix_u = KNNBasic(sim_options={\n",
    "        'name': 'cosine',\n",
    "        'user_based': True\n",
    "        })\\\n",
    "        .fit(trainset)"
   ]
  },
  {
   "cell_type": "code",
   "execution_count": 21,
   "metadata": {},
   "outputs": [],
   "source": [
    "results_i = similarity_matrix_i.test(testset)\n",
    "results_u = similarity_matrix_u.test(testset)"
   ]
  },
  {
   "cell_type": "code",
   "execution_count": 22,
   "metadata": {},
   "outputs": [],
   "source": [
    "precisions_i, recalls_i = precision_recall_at_k(results_i, 6000, threshold=3.5)\n",
    "precisions_u, recalls_u = precision_recall_at_k(results_u, 6000, threshold=3.5)"
   ]
  },
  {
   "cell_type": "code",
   "execution_count": 23,
   "metadata": {},
   "outputs": [
    {
     "name": "stdout",
     "output_type": "stream",
     "text": [
      "avg_precision_i: 0.6951013630628007\n",
      "avg_recall_i: 0.7081242980157245\n",
      "avg_precision_u: 0.6948213617157833\n",
      "avg_recall_u: 0.7077172889509094\n"
     ]
    }
   ],
   "source": [
    "print(f'avg_precision_i: {np.mean(list(precisions_i.values()))}')\n",
    "print(f'avg_recall_i: {np.mean(list(recalls_i.values()))}')\n",
    "print(f'avg_precision_u: {np.mean(list(precisions_u.values()))}')\n",
    "print(f'avg_recall_u: {np.mean(list(recalls_u.values()))}')"
   ]
  },
  {
   "attachments": {},
   "cell_type": "markdown",
   "metadata": {},
   "source": [
    "Visualizing on one user"
   ]
  },
  {
   "cell_type": "code",
   "execution_count": 24,
   "metadata": {},
   "outputs": [],
   "source": [
    "# Example one case\n",
    "test_subject_iid = trainset.to_inner_uid('A1WVMDRJU19AFD')\n",
    "\n",
    "# Get the top K items we rated\n",
    "test_subject_ratings = trainset.ur[test_subject_iid]\n",
    "k_neighbors = heapq.nlargest(5, test_subject_ratings, key=lambda t: t[1])"
   ]
  },
  {
   "cell_type": "code",
   "execution_count": 25,
   "metadata": {},
   "outputs": [
    {
     "name": "stdout",
     "output_type": "stream",
     "text": [
      "Computing the cosine similarity matrix...\n",
      "Done computing similarity matrix.\n"
     ]
    }
   ],
   "source": [
    "similarity_matrix = similarity_matrix_i.compute_similarities()\n",
    "candidates = defaultdict(float)\n",
    "\n",
    "for itemID, rating in k_neighbors:\n",
    "    try:\n",
    "      similaritities = similarity_matrix[itemID]\n",
    "      for innerID, score in enumerate(similaritities):\n",
    "          candidates[innerID] += score * (rating / 5.0)\n",
    "    except:\n",
    "      continue"
   ]
  },
  {
   "cell_type": "code",
   "execution_count": 26,
   "metadata": {},
   "outputs": [
    {
     "name": "stdout",
     "output_type": "stream",
     "text": [
      "Product 1: B00002SWHH\n",
      "Product 2: B00004SC3Y\n",
      "Product 3: B000031KIM\n",
      "Product 4: B00000J3Q7\n",
      "Product 5: B00001QEMF\n"
     ]
    }
   ],
   "source": [
    "rated = {}\n",
    "for itemID, _ in trainset.ur[test_subject_iid]:\n",
    "  rated[itemID] = 1\n",
    "\n",
    "# Add items to list of user's recommendations\n",
    "# If they are similar to their favorite items,\n",
    "# AND have not already been rated it.\n",
    "recommendations = []\n",
    "\n",
    "position = 1\n",
    "for itemID, rating_sum in sorted(candidates.items(), key=itemgetter(1), reverse=True):\n",
    "  if not itemID in rated:\n",
    "    recommendations.append(trainset.to_raw_iid(itemID))\n",
    "    position += 1\n",
    "    if (position > 5): break # We only want top 5\n",
    "\n",
    "for idx, rec in enumerate(recommendations, 1):\n",
    "  print(f\"Product {idx}:\", rec)"
   ]
  }
 ],
 "metadata": {
  "kernelspec": {
   "display_name": "arabic-ocr",
   "language": "python",
   "name": "python3"
  },
  "language_info": {
   "codemirror_mode": {
    "name": "ipython",
    "version": 3
   },
   "file_extension": ".py",
   "mimetype": "text/x-python",
   "name": "python",
   "nbconvert_exporter": "python",
   "pygments_lexer": "ipython3",
   "version": "3.10.8"
  },
  "orig_nbformat": 4
 },
 "nbformat": 4,
 "nbformat_minor": 2
}
